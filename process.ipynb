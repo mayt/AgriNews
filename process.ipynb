{
 "cells": [
  {
   "cell_type": "code",
   "execution_count": 57,
   "metadata": {},
   "outputs": [],
   "source": [
    "import openai\n",
    "import tiktoken\n",
    "import pinecone\n",
    "import os\n",
    "from pymongo.mongo_client import MongoClient\n",
    "import pandas as pd\n",
    "from langchain.embeddings import OpenAIEmbeddings\n",
    "from dotenv import load_dotenv\n",
    "\n",
    "load_dotenv()\n",
    "\n",
    "\n",
    "openai.api_key = os.getenv(\"OPENAI_API_KEY\")\n",
    "\n",
    "PINECONE_API_KEY = 'YOUR-PINECONE-KEY'\n",
    "PINECONE_API_ENV = 'YOUR-PINECONE-ENV'\n",
    "MONGO_URI = os.getenv(\"MONGO_URI\")"
   ]
  },
  {
   "cell_type": "code",
   "execution_count": 3,
   "metadata": {},
   "outputs": [],
   "source": [
    "text = '''#［肥料自給　これで強化］（１）　堆肥入りペレット　まきやすく広域流通も\n",
    "\n",
    "埼玉県加須市で水稲など５７ヘクタールを栽培する小倉祐一さん（４２）は３月、肥料成分や有機物を水田に供給するペレット状の資材を初めてまいた。資材の原料の約７割は牛ふん堆肥を中心とした国内の資源だ。小倉さんは「ブロードキャスターが使えて省力的。臭いも気にならない」という。\n",
    "農水省によると、２月の肥料価格は２０２０年を１００とした指数で１５５で、前年同月を４割上回る。輸入に大きく依存する肥料原料のリン安や塩化カリの高騰が主因。こうした中で国内資源の家畜ふん堆肥への注目が高まっている。\n",
    "小倉さんはリンやカリの成分量を抑えた安価なＬ型肥料への切り替えで、肥料費の圧縮を目指す。一方、減らした分のリン、カリに加え、ケイ酸、地力向上につながる有機物の補給へ、採用したペレット資材が「稲サポ」だ。１袋（１５キロ）当たりの肥料成分比はリン酸７％、カリ６％、ケイ酸８％などで、１０アール当たり５０キロを計４ヘクタールに散布した。\n",
    "同省によると、家畜排せつ物は年間約８０００万トン（２０２０年）発生し、８６％が主に堆肥として活用されている。一方、稲作地帯は畜産農家が少ないなどで水田への堆肥の施用量は１５年までの３０年間で４分の１に減った。\n",
    "小倉さんも、牛ふん堆肥の施用を考えたが、近隣に入手可能な農場がなかったことや散布機を持っていないこと、臭いへの懸念などから諦めてきた。稲サポのように、ペレット加工して体積を減らした資材は、堆肥では難しかった広域での流通や、従来の散布機の活用も可能になる。\n",
    "稲サポを製造する朝日アグリアは、牛ふん堆肥を群馬や埼玉県の畜産農家から仕入れる。２１年に開発して以降、埼玉や茨城、千葉といった関東圏に加え、新潟などでも利用が広がる。\n",
    "・地力向上し収量安定に\n",
    "家畜ふん堆肥の利用拡大へ、農研機構九州沖縄農業研究センターの荒川祐介氏は「効果や価値を改めて理解する必要がある」と指摘する。ペレット資材も含め、堆肥は家畜ふんや植物の繊維などの有機物が供給できる。短期的には収益に結び付きにくいが、長期的には、有機物を微生物が分解して土中に細かな土壌の粒ができることで、排水性と保水性が向上する。収量や品質の安定につながるとする。（川崎勇）\n",
    "◇\n",
    "肥料価格の高騰が続いている。国内にある資源を肥料に生かす取り組みについて、普及、定着の課題を探る。\n",
    "\n",
    "\n",
    "写真説明：総合１＝肥料自給　これで強化・①家畜ふん堆肥・ペレットでまきやすく・地力向上に期待・付加価値の理解必要／〇日農／営農生活部／川崎勇／堆肥入りの肥料で地力の向上に期待する小倉さん（埼玉県加須市で）\n",
    "\n",
    "\n",
    "'''\n"
   ]
  },
  {
   "cell_type": "code",
   "execution_count": 24,
   "metadata": {},
   "outputs": [
    {
     "name": "stdout",
     "output_type": "stream",
     "text": [
      "埼玉県加須市|Saitama Prefecture, Kazo City||saitama ken kazoshi|Place\n",
      "小倉祐一|Yuichi Ogura||ogura yuichi|Person\n",
      "農水省|Ministry of Agriculture, Forestry and Fisheries|(MAFF)|nousuishou|Government Department\n",
      "稲サポ|InaSapo||inasapo|Proper Noun\n",
      "朝日アグリア|Asahi Aguria||asahi aguria|Company\n",
      "荒川祐介|Yusuke Arakawa||arakawa yusuke|Person\n",
      "川崎勇|Isamu Kawasaki||kawasaki isamu|Person\n",
      "農研機構九州沖縄農業研究センター|Agriculture and Livestock Industries Corporation Kyushu Okinawa Agricultural Research Center||nouken kikou kyushu okinawa nougyou kenkyuu sentaa|Research Center\n",
      "リン安|Phosphorus price||rin-an|Economic Term\n",
      "塩化カリ|Potassium Chloride||enkaku kari|Chemical\n",
      "ペレット状|Pellet-shaped||peretto-jou|Adjective\n",
      "Ｌ型肥料|L-type fertilizer||L-gata hiryou|Fertilizer\n",
      "リン酸|Phosphate||rinsan|Chemical\n",
      "ケイ酸|Silicic acid||keisan|Chemical\n",
      "関東圏|Kanto region||kantouken|Region\n",
      "新潟|Niigata||niigata|Place\n",
      "茨城|Ibaraki||ibaraki|Place\n",
      "千葉|Chiba||chiba|Place\n",
      "群馬|Gunma||gunma|Place\n",
      "\n"
     ]
    }
   ],
   "source": [
    "def nouns_extraction(text, model=\"gpt-3.5-turbo\"):\n",
    "    system_message_prompt = \"\"\"Your job is to pick out all proper nouns, people's names, places' name, brand names, and quoted names in Japanese for your peer translator, and also include all words where you are not confident the English translation. You will attempt to translate the words.\n",
    "\n",
    "For companies, use the romanji name. For example, \"明治生命\" => \"Meiji Life Insurance Co.\".\n",
    "\n",
    "You will respond in the following format:\n",
    "\n",
    "Japanese|English|Abbreviation|Romanji|Type\n",
    "農泊|Nouhaku (Agritourism)||nouhaku|Proper Noun\n",
    "農水省|Ministry of Agriculture, Forestry and Fisheries|(MAFF)|nousuishou|Government Department\n",
    "幸南食糧|Kounan Shokuryo Co.||kounan shokuryo|Company\n",
    "鶏がゆ|chicken porridge||tori kayu|Food\n",
    "\n",
    "\"\"\"\n",
    "    message = [\n",
    "        {\"role\": \"system\", \"content\": system_message_prompt},\n",
    "        {\"role\": \"user\", \"content\": text},\n",
    "    ]\n",
    "    response = openai.ChatCompletion.create(\n",
    "        model=model,\n",
    "        messages=message,\n",
    "        temperature=0.6,\n",
    "        max_tokens=1000,\n",
    "    )\n",
    "\n",
    "    return response.choices[0].message.content\n",
    "\n",
    "dictionary = nouns_extraction(text, \"gpt-4\")\n",
    "print(dictionary)\n"
   ]
  },
  {
   "cell_type": "code",
   "execution_count": 56,
   "metadata": {},
   "outputs": [
    {
     "name": "stdout",
     "output_type": "stream",
     "text": [
      "埼玉県加須市 data=[{'article_id': '28292167-fcc9-4edf-acbb-5e96c7b1af68', 'dictionary_id': 49, 'dictionary': {'jp': '埼玉県加須市'}}] count=None\n",
      "埼玉県加須市 already exists\n",
      "小倉祐一 data=[{'article_id': '28292167-fcc9-4edf-acbb-5e96c7b1af68', 'dictionary_id': 49, 'dictionary': None}] count=None\n",
      "小倉祐一 already exists\n",
      "農水省 data=[{'article_id': '28292167-fcc9-4edf-acbb-5e96c7b1af68', 'dictionary_id': 49, 'dictionary': None}] count=None\n",
      "農水省 already exists\n",
      "稲サポ data=[{'article_id': '28292167-fcc9-4edf-acbb-5e96c7b1af68', 'dictionary_id': 49, 'dictionary': None}] count=None\n",
      "稲サポ already exists\n",
      "朝日アグリア data=[{'article_id': '28292167-fcc9-4edf-acbb-5e96c7b1af68', 'dictionary_id': 49, 'dictionary': None}] count=None\n",
      "朝日アグリア already exists\n",
      "荒川祐介 data=[{'article_id': '28292167-fcc9-4edf-acbb-5e96c7b1af68', 'dictionary_id': 49, 'dictionary': None}] count=None\n",
      "荒川祐介 already exists\n",
      "川崎勇 data=[{'article_id': '28292167-fcc9-4edf-acbb-5e96c7b1af68', 'dictionary_id': 49, 'dictionary': None}] count=None\n",
      "川崎勇 already exists\n",
      "農研機構九州沖縄農業研究センター data=[{'article_id': '28292167-fcc9-4edf-acbb-5e96c7b1af68', 'dictionary_id': 49, 'dictionary': None}] count=None\n",
      "農研機構九州沖縄農業研究センター already exists\n",
      "リン安 data=[{'article_id': '28292167-fcc9-4edf-acbb-5e96c7b1af68', 'dictionary_id': 49, 'dictionary': None}] count=None\n",
      "リン安 already exists\n",
      "塩化カリ data=[{'article_id': '28292167-fcc9-4edf-acbb-5e96c7b1af68', 'dictionary_id': 49, 'dictionary': None}] count=None\n",
      "塩化カリ already exists\n",
      "ペレット状 data=[{'article_id': '28292167-fcc9-4edf-acbb-5e96c7b1af68', 'dictionary_id': 49, 'dictionary': None}] count=None\n",
      "ペレット状 already exists\n",
      "Ｌ型肥料 data=[{'article_id': '28292167-fcc9-4edf-acbb-5e96c7b1af68', 'dictionary_id': 49, 'dictionary': None}] count=None\n",
      "Ｌ型肥料 already exists\n",
      "リン酸 data=[{'article_id': '28292167-fcc9-4edf-acbb-5e96c7b1af68', 'dictionary_id': 49, 'dictionary': None}] count=None\n",
      "リン酸 already exists\n",
      "ケイ酸 data=[{'article_id': '28292167-fcc9-4edf-acbb-5e96c7b1af68', 'dictionary_id': 49, 'dictionary': None}] count=None\n",
      "ケイ酸 already exists\n",
      "関東圏 data=[{'article_id': '28292167-fcc9-4edf-acbb-5e96c7b1af68', 'dictionary_id': 49, 'dictionary': None}] count=None\n",
      "関東圏 already exists\n",
      "新潟 data=[{'article_id': '28292167-fcc9-4edf-acbb-5e96c7b1af68', 'dictionary_id': 49, 'dictionary': None}] count=None\n",
      "新潟 already exists\n",
      "茨城 data=[{'article_id': '28292167-fcc9-4edf-acbb-5e96c7b1af68', 'dictionary_id': 49, 'dictionary': None}] count=None\n",
      "茨城 already exists\n",
      "千葉 data=[{'article_id': '28292167-fcc9-4edf-acbb-5e96c7b1af68', 'dictionary_id': 49, 'dictionary': None}] count=None\n",
      "千葉 already exists\n",
      "群馬 data=[{'article_id': '28292167-fcc9-4edf-acbb-5e96c7b1af68', 'dictionary_id': 49, 'dictionary': None}] count=None\n",
      "群馬 already exists\n"
     ]
    }
   ],
   "source": [
    "from supabase import create_client, Client\n",
    "\n",
    "article_id = \"28292167-fcc9-4edf-acbb-5e96c7b1af68\"\n",
    "\n",
    "url = os.getenv(\"SUPABASE_URL\")\n",
    "key = os.getenv(\"SUPABASE_KEY\")\n",
    "supabase = create_client(url, key)\n",
    "for line in dictionary.strip().split('\\n'):\n",
    "    line = line.split(\"|\")\n",
    "    dictionary = {\"jp\":line[0],\"en\": line[1],\"abbreviation\": line[2],\"romanji\": line[3],\"type\": line[4]}\n",
    "    data = supabase.table(\"article_dictionary\").select(\"article_id,dictionary_id,dictionary(jp)\").eq(\"dictionary.jp\", line[0]).execute()\n",
    "    print(line[0], data)\n",
    "\n",
    "    if len(data.data) > 0:\n",
    "        print(line[0], \"already exists\")\n",
    "        continue\n",
    "    data = supabase.table(\"dictionary\").insert().execute()\n",
    "    print(line[0], data)\n",
    "    data = supabase.table(\"article_dictionary\").insert({\"article_id\":article_id,\"dictionary_id\": data.data[0][\"id\"]}).execute()\n"
   ]
  },
  {
   "cell_type": "code",
   "execution_count": 58,
   "metadata": {},
   "outputs": [
    {
     "name": "stdout",
     "output_type": "stream",
     "text": [
      "Pinged your deployment. You successfully connected to MongoDB!\n"
     ]
    }
   ],
   "source": [
    "client = MongoClient(MONGO_URI)\n",
    "try:\n",
    "    client.admin.command('ping')\n",
    "    print(\"Pinged your deployment. You successfully connected to MongoDB!\")\n",
    "except Exception as e:\n",
    "    print(e)"
   ]
  },
  {
   "cell_type": "markdown",
   "metadata": {},
   "source": []
  }
 ],
 "metadata": {
  "kernelspec": {
   "display_name": "Python 3",
   "language": "python",
   "name": "python3"
  },
  "language_info": {
   "codemirror_mode": {
    "name": "ipython",
    "version": 3
   },
   "file_extension": ".py",
   "mimetype": "text/x-python",
   "name": "python",
   "nbconvert_exporter": "python",
   "pygments_lexer": "ipython3",
   "version": "3.9.7"
  },
  "orig_nbformat": 4
 },
 "nbformat": 4,
 "nbformat_minor": 2
}
